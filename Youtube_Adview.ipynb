{
  "nbformat": 4,
  "nbformat_minor": 0,
  "metadata": {
    "colab": {
      "name": "Youtube Adview.ipynb",
      "provenance": [],
      "collapsed_sections": [],
      "toc_visible": true,
      "mount_file_id": "15RcuIOPNSDUjX145_WLjVEDt9npJR-Po",
      "authorship_tag": "ABX9TyPF0qTFo0f4eQGxzlfGfWOW",
      "include_colab_link": true
    },
    "kernelspec": {
      "name": "python3",
      "display_name": "Python 3"
    }
  },
  "cells": [
    {
      "cell_type": "markdown",
      "metadata": {
        "id": "view-in-github",
        "colab_type": "text"
      },
      "source": [
        "<a href=\"https://colab.research.google.com/github/kamleshsah/ML-Project/blob/main/Youtube_Adview.ipynb\" target=\"_parent\"><img src=\"https://colab.research.google.com/assets/colab-badge.svg\" alt=\"Open In Colab\"/></a>"
      ]
    },
    {
      "cell_type": "code",
      "metadata": {
        "id": "PjQBaRmV1lsY"
      },
      "source": [
        "import pandas as pd\n",
        "import numpy as np\n",
        "import matplotlib.pyplot as plt"
      ],
      "execution_count": 81,
      "outputs": []
    },
    {
      "cell_type": "code",
      "metadata": {
        "id": "zRtZjF5j1sJs",
        "outputId": "70c20896-9a74-486e-c2c1-42983e70e331",
        "colab": {
          "base_uri": "https://localhost:8080/",
          "height": 195
        }
      },
      "source": [
        "df=pd.read_csv('/content/drive/My Drive/train.csv')\n",
        "df.head(5)"
      ],
      "execution_count": 82,
      "outputs": [
        {
          "output_type": "execute_result",
          "data": {
            "text/html": [
              "<div>\n",
              "<style scoped>\n",
              "    .dataframe tbody tr th:only-of-type {\n",
              "        vertical-align: middle;\n",
              "    }\n",
              "\n",
              "    .dataframe tbody tr th {\n",
              "        vertical-align: top;\n",
              "    }\n",
              "\n",
              "    .dataframe thead th {\n",
              "        text-align: right;\n",
              "    }\n",
              "</style>\n",
              "<table border=\"1\" class=\"dataframe\">\n",
              "  <thead>\n",
              "    <tr style=\"text-align: right;\">\n",
              "      <th></th>\n",
              "      <th>vidid</th>\n",
              "      <th>adview</th>\n",
              "      <th>views</th>\n",
              "      <th>likes</th>\n",
              "      <th>dislikes</th>\n",
              "      <th>comment</th>\n",
              "      <th>published</th>\n",
              "      <th>duration</th>\n",
              "      <th>category</th>\n",
              "    </tr>\n",
              "  </thead>\n",
              "  <tbody>\n",
              "    <tr>\n",
              "      <th>0</th>\n",
              "      <td>VID_18655</td>\n",
              "      <td>40</td>\n",
              "      <td>1031602</td>\n",
              "      <td>8523</td>\n",
              "      <td>363</td>\n",
              "      <td>1095</td>\n",
              "      <td>2016-09-14</td>\n",
              "      <td>PT7M37S</td>\n",
              "      <td>F</td>\n",
              "    </tr>\n",
              "    <tr>\n",
              "      <th>1</th>\n",
              "      <td>VID_14135</td>\n",
              "      <td>2</td>\n",
              "      <td>1707</td>\n",
              "      <td>56</td>\n",
              "      <td>2</td>\n",
              "      <td>6</td>\n",
              "      <td>2016-10-01</td>\n",
              "      <td>PT9M30S</td>\n",
              "      <td>D</td>\n",
              "    </tr>\n",
              "    <tr>\n",
              "      <th>2</th>\n",
              "      <td>VID_2187</td>\n",
              "      <td>1</td>\n",
              "      <td>2023</td>\n",
              "      <td>25</td>\n",
              "      <td>0</td>\n",
              "      <td>2</td>\n",
              "      <td>2016-07-02</td>\n",
              "      <td>PT2M16S</td>\n",
              "      <td>C</td>\n",
              "    </tr>\n",
              "    <tr>\n",
              "      <th>3</th>\n",
              "      <td>VID_23096</td>\n",
              "      <td>6</td>\n",
              "      <td>620860</td>\n",
              "      <td>777</td>\n",
              "      <td>161</td>\n",
              "      <td>153</td>\n",
              "      <td>2016-07-27</td>\n",
              "      <td>PT4M22S</td>\n",
              "      <td>H</td>\n",
              "    </tr>\n",
              "    <tr>\n",
              "      <th>4</th>\n",
              "      <td>VID_10175</td>\n",
              "      <td>1</td>\n",
              "      <td>666</td>\n",
              "      <td>1</td>\n",
              "      <td>0</td>\n",
              "      <td>0</td>\n",
              "      <td>2016-06-29</td>\n",
              "      <td>PT31S</td>\n",
              "      <td>D</td>\n",
              "    </tr>\n",
              "  </tbody>\n",
              "</table>\n",
              "</div>"
            ],
            "text/plain": [
              "       vidid  adview    views likes  ... comment   published duration category\n",
              "0  VID_18655      40  1031602  8523  ...    1095  2016-09-14  PT7M37S        F\n",
              "1  VID_14135       2     1707    56  ...       6  2016-10-01  PT9M30S        D\n",
              "2   VID_2187       1     2023    25  ...       2  2016-07-02  PT2M16S        C\n",
              "3  VID_23096       6   620860   777  ...     153  2016-07-27  PT4M22S        H\n",
              "4  VID_10175       1      666     1  ...       0  2016-06-29    PT31S        D\n",
              "\n",
              "[5 rows x 9 columns]"
            ]
          },
          "metadata": {
            "tags": []
          },
          "execution_count": 82
        }
      ]
    },
    {
      "cell_type": "code",
      "metadata": {
        "id": "k8oHS4461sSQ",
        "outputId": "6d2c3028-9ee8-440c-f3d7-d3c606ff9123",
        "colab": {
          "base_uri": "https://localhost:8080/",
          "height": 34
        }
      },
      "source": [
        "df.shape"
      ],
      "execution_count": 83,
      "outputs": [
        {
          "output_type": "execute_result",
          "data": {
            "text/plain": [
              "(14999, 9)"
            ]
          },
          "metadata": {
            "tags": []
          },
          "execution_count": 83
        }
      ]
    },
    {
      "cell_type": "code",
      "metadata": {
        "id": "-ZqS2pW01sYK",
        "outputId": "a8da7aeb-4c30-4758-ccff-057f8930ed94",
        "colab": {
          "base_uri": "https://localhost:8080/",
          "height": 195
        }
      },
      "source": [
        "category={'A':1,'B':2,'C':3,'D':4,'E':5,'F':6,'G':7,'H':8}\n",
        "df['category']=df['category'].map(category)\n",
        "df.head()"
      ],
      "execution_count": 84,
      "outputs": [
        {
          "output_type": "execute_result",
          "data": {
            "text/html": [
              "<div>\n",
              "<style scoped>\n",
              "    .dataframe tbody tr th:only-of-type {\n",
              "        vertical-align: middle;\n",
              "    }\n",
              "\n",
              "    .dataframe tbody tr th {\n",
              "        vertical-align: top;\n",
              "    }\n",
              "\n",
              "    .dataframe thead th {\n",
              "        text-align: right;\n",
              "    }\n",
              "</style>\n",
              "<table border=\"1\" class=\"dataframe\">\n",
              "  <thead>\n",
              "    <tr style=\"text-align: right;\">\n",
              "      <th></th>\n",
              "      <th>vidid</th>\n",
              "      <th>adview</th>\n",
              "      <th>views</th>\n",
              "      <th>likes</th>\n",
              "      <th>dislikes</th>\n",
              "      <th>comment</th>\n",
              "      <th>published</th>\n",
              "      <th>duration</th>\n",
              "      <th>category</th>\n",
              "    </tr>\n",
              "  </thead>\n",
              "  <tbody>\n",
              "    <tr>\n",
              "      <th>0</th>\n",
              "      <td>VID_18655</td>\n",
              "      <td>40</td>\n",
              "      <td>1031602</td>\n",
              "      <td>8523</td>\n",
              "      <td>363</td>\n",
              "      <td>1095</td>\n",
              "      <td>2016-09-14</td>\n",
              "      <td>PT7M37S</td>\n",
              "      <td>6</td>\n",
              "    </tr>\n",
              "    <tr>\n",
              "      <th>1</th>\n",
              "      <td>VID_14135</td>\n",
              "      <td>2</td>\n",
              "      <td>1707</td>\n",
              "      <td>56</td>\n",
              "      <td>2</td>\n",
              "      <td>6</td>\n",
              "      <td>2016-10-01</td>\n",
              "      <td>PT9M30S</td>\n",
              "      <td>4</td>\n",
              "    </tr>\n",
              "    <tr>\n",
              "      <th>2</th>\n",
              "      <td>VID_2187</td>\n",
              "      <td>1</td>\n",
              "      <td>2023</td>\n",
              "      <td>25</td>\n",
              "      <td>0</td>\n",
              "      <td>2</td>\n",
              "      <td>2016-07-02</td>\n",
              "      <td>PT2M16S</td>\n",
              "      <td>3</td>\n",
              "    </tr>\n",
              "    <tr>\n",
              "      <th>3</th>\n",
              "      <td>VID_23096</td>\n",
              "      <td>6</td>\n",
              "      <td>620860</td>\n",
              "      <td>777</td>\n",
              "      <td>161</td>\n",
              "      <td>153</td>\n",
              "      <td>2016-07-27</td>\n",
              "      <td>PT4M22S</td>\n",
              "      <td>8</td>\n",
              "    </tr>\n",
              "    <tr>\n",
              "      <th>4</th>\n",
              "      <td>VID_10175</td>\n",
              "      <td>1</td>\n",
              "      <td>666</td>\n",
              "      <td>1</td>\n",
              "      <td>0</td>\n",
              "      <td>0</td>\n",
              "      <td>2016-06-29</td>\n",
              "      <td>PT31S</td>\n",
              "      <td>4</td>\n",
              "    </tr>\n",
              "  </tbody>\n",
              "</table>\n",
              "</div>"
            ],
            "text/plain": [
              "       vidid  adview    views likes  ... comment   published duration category\n",
              "0  VID_18655      40  1031602  8523  ...    1095  2016-09-14  PT7M37S        6\n",
              "1  VID_14135       2     1707    56  ...       6  2016-10-01  PT9M30S        4\n",
              "2   VID_2187       1     2023    25  ...       2  2016-07-02  PT2M16S        3\n",
              "3  VID_23096       6   620860   777  ...     153  2016-07-27  PT4M22S        8\n",
              "4  VID_10175       1      666     1  ...       0  2016-06-29    PT31S        4\n",
              "\n",
              "[5 rows x 9 columns]"
            ]
          },
          "metadata": {
            "tags": []
          },
          "execution_count": 84
        }
      ]
    },
    {
      "cell_type": "code",
      "metadata": {
        "id": "In15Z0sy1sa4"
      },
      "source": [
        "df=df[df.views!='F']\n",
        "df=df[df.likes!='F']\n",
        "df=df[df.dislikes!='F']\n",
        "df=df[df.comment!='F']"
      ],
      "execution_count": 85,
      "outputs": []
    },
    {
      "cell_type": "code",
      "metadata": {
        "id": "TxpfnNDW1sdp"
      },
      "source": [
        "df['views']=pd.to_numeric(df['views'])\n",
        "df['likes']=pd.to_numeric(df['likes'])\n",
        "df['dislikes']=pd.to_numeric(df['dislikes'])\n",
        "df['comment']=pd.to_numeric(df['comment'])\n",
        "df['adview']=pd.to_numeric(df['adview'])"
      ],
      "execution_count": 86,
      "outputs": []
    },
    {
      "cell_type": "code",
      "metadata": {
        "id": "Hnja0PGf5EhR"
      },
      "source": [
        "col_vidid=df['vidid']\n",
        "duration=df['duration'].values"
      ],
      "execution_count": 87,
      "outputs": []
    },
    {
      "cell_type": "code",
      "metadata": {
        "id": "KmU4eoKd5Elw"
      },
      "source": [
        "from sklearn.preprocessing import LabelEncoder\n",
        "df['vidid']=LabelEncoder().fit_transform(df['vidid'])\n",
        "df['published']=LabelEncoder().fit_transform(df['published'])\n",
        "df['duration']=LabelEncoder().fit_transform(df['duration'])"
      ],
      "execution_count": 88,
      "outputs": []
    },
    {
      "cell_type": "code",
      "metadata": {
        "id": "fYKETA5-5EoQ",
        "outputId": "fb4002b6-f786-4295-b46b-ba1917e9dae0",
        "colab": {
          "base_uri": "https://localhost:8080/",
          "height": 195
        }
      },
      "source": [
        "df.head()"
      ],
      "execution_count": 89,
      "outputs": [
        {
          "output_type": "execute_result",
          "data": {
            "text/html": [
              "<div>\n",
              "<style scoped>\n",
              "    .dataframe tbody tr th:only-of-type {\n",
              "        vertical-align: middle;\n",
              "    }\n",
              "\n",
              "    .dataframe tbody tr th {\n",
              "        vertical-align: top;\n",
              "    }\n",
              "\n",
              "    .dataframe thead th {\n",
              "        text-align: right;\n",
              "    }\n",
              "</style>\n",
              "<table border=\"1\" class=\"dataframe\">\n",
              "  <thead>\n",
              "    <tr style=\"text-align: right;\">\n",
              "      <th></th>\n",
              "      <th>vidid</th>\n",
              "      <th>adview</th>\n",
              "      <th>views</th>\n",
              "      <th>likes</th>\n",
              "      <th>dislikes</th>\n",
              "      <th>comment</th>\n",
              "      <th>published</th>\n",
              "      <th>duration</th>\n",
              "      <th>category</th>\n",
              "    </tr>\n",
              "  </thead>\n",
              "  <tbody>\n",
              "    <tr>\n",
              "      <th>0</th>\n",
              "      <td>5912</td>\n",
              "      <td>40</td>\n",
              "      <td>1031602</td>\n",
              "      <td>8523</td>\n",
              "      <td>363</td>\n",
              "      <td>1095</td>\n",
              "      <td>2168</td>\n",
              "      <td>2925</td>\n",
              "      <td>6</td>\n",
              "    </tr>\n",
              "    <tr>\n",
              "      <th>1</th>\n",
              "      <td>2741</td>\n",
              "      <td>2</td>\n",
              "      <td>1707</td>\n",
              "      <td>56</td>\n",
              "      <td>2</td>\n",
              "      <td>6</td>\n",
              "      <td>2185</td>\n",
              "      <td>3040</td>\n",
              "      <td>4</td>\n",
              "    </tr>\n",
              "    <tr>\n",
              "      <th>2</th>\n",
              "      <td>8138</td>\n",
              "      <td>1</td>\n",
              "      <td>2023</td>\n",
              "      <td>25</td>\n",
              "      <td>0</td>\n",
              "      <td>2</td>\n",
              "      <td>2094</td>\n",
              "      <td>1863</td>\n",
              "      <td>3</td>\n",
              "    </tr>\n",
              "    <tr>\n",
              "      <th>3</th>\n",
              "      <td>9005</td>\n",
              "      <td>6</td>\n",
              "      <td>620860</td>\n",
              "      <td>777</td>\n",
              "      <td>161</td>\n",
              "      <td>153</td>\n",
              "      <td>2119</td>\n",
              "      <td>2546</td>\n",
              "      <td>8</td>\n",
              "    </tr>\n",
              "    <tr>\n",
              "      <th>4</th>\n",
              "      <td>122</td>\n",
              "      <td>1</td>\n",
              "      <td>666</td>\n",
              "      <td>1</td>\n",
              "      <td>0</td>\n",
              "      <td>0</td>\n",
              "      <td>2091</td>\n",
              "      <td>1963</td>\n",
              "      <td>4</td>\n",
              "    </tr>\n",
              "  </tbody>\n",
              "</table>\n",
              "</div>"
            ],
            "text/plain": [
              "   vidid  adview    views  likes  ...  comment  published  duration  category\n",
              "0   5912      40  1031602   8523  ...     1095       2168      2925         6\n",
              "1   2741       2     1707     56  ...        6       2185      3040         4\n",
              "2   8138       1     2023     25  ...        2       2094      1863         3\n",
              "3   9005       6   620860    777  ...      153       2119      2546         8\n",
              "4    122       1      666      1  ...        0       2091      1963         4\n",
              "\n",
              "[5 rows x 9 columns]"
            ]
          },
          "metadata": {
            "tags": []
          },
          "execution_count": 89
        }
      ]
    },
    {
      "cell_type": "code",
      "metadata": {
        "id": "_fAv2Kia5Eu9"
      },
      "source": [
        "#Convert Hour-min-sec for duration\n",
        "def convert(x):\n",
        "    a=''\n",
        "    sum=0\n",
        "    for i in x[2:]:\n",
        "        if i=='H':\n",
        "            a=int(a)\n",
        "            sum+=a*60*60\n",
        "            a=''\n",
        "        elif i=='M':\n",
        "            a=int(a)\n",
        "            sum+=a*60\n",
        "            a=''\n",
        "        elif i=='S':\n",
        "            a=int(a)\n",
        "            sum+=a\n",
        "            a=''\n",
        "            break\n",
        "        else:\n",
        "            a+=i\n",
        "    return sum\n",
        "    \n",
        "    \n",
        "ans=[]\n",
        "for i in duration:\n",
        "    a=convert(i)\n",
        "    ans.append(a)\n",
        "df['duration']=ans"
      ],
      "execution_count": 90,
      "outputs": []
    },
    {
      "cell_type": "code",
      "metadata": {
        "id": "5ysGDHv75Ex3",
        "outputId": "6b3c4836-ce86-434d-af21-7cf400bb5f59",
        "colab": {
          "base_uri": "https://localhost:8080/",
          "height": 195
        }
      },
      "source": [
        "df.head()"
      ],
      "execution_count": 91,
      "outputs": [
        {
          "output_type": "execute_result",
          "data": {
            "text/html": [
              "<div>\n",
              "<style scoped>\n",
              "    .dataframe tbody tr th:only-of-type {\n",
              "        vertical-align: middle;\n",
              "    }\n",
              "\n",
              "    .dataframe tbody tr th {\n",
              "        vertical-align: top;\n",
              "    }\n",
              "\n",
              "    .dataframe thead th {\n",
              "        text-align: right;\n",
              "    }\n",
              "</style>\n",
              "<table border=\"1\" class=\"dataframe\">\n",
              "  <thead>\n",
              "    <tr style=\"text-align: right;\">\n",
              "      <th></th>\n",
              "      <th>vidid</th>\n",
              "      <th>adview</th>\n",
              "      <th>views</th>\n",
              "      <th>likes</th>\n",
              "      <th>dislikes</th>\n",
              "      <th>comment</th>\n",
              "      <th>published</th>\n",
              "      <th>duration</th>\n",
              "      <th>category</th>\n",
              "    </tr>\n",
              "  </thead>\n",
              "  <tbody>\n",
              "    <tr>\n",
              "      <th>0</th>\n",
              "      <td>5912</td>\n",
              "      <td>40</td>\n",
              "      <td>1031602</td>\n",
              "      <td>8523</td>\n",
              "      <td>363</td>\n",
              "      <td>1095</td>\n",
              "      <td>2168</td>\n",
              "      <td>457</td>\n",
              "      <td>6</td>\n",
              "    </tr>\n",
              "    <tr>\n",
              "      <th>1</th>\n",
              "      <td>2741</td>\n",
              "      <td>2</td>\n",
              "      <td>1707</td>\n",
              "      <td>56</td>\n",
              "      <td>2</td>\n",
              "      <td>6</td>\n",
              "      <td>2185</td>\n",
              "      <td>570</td>\n",
              "      <td>4</td>\n",
              "    </tr>\n",
              "    <tr>\n",
              "      <th>2</th>\n",
              "      <td>8138</td>\n",
              "      <td>1</td>\n",
              "      <td>2023</td>\n",
              "      <td>25</td>\n",
              "      <td>0</td>\n",
              "      <td>2</td>\n",
              "      <td>2094</td>\n",
              "      <td>136</td>\n",
              "      <td>3</td>\n",
              "    </tr>\n",
              "    <tr>\n",
              "      <th>3</th>\n",
              "      <td>9005</td>\n",
              "      <td>6</td>\n",
              "      <td>620860</td>\n",
              "      <td>777</td>\n",
              "      <td>161</td>\n",
              "      <td>153</td>\n",
              "      <td>2119</td>\n",
              "      <td>262</td>\n",
              "      <td>8</td>\n",
              "    </tr>\n",
              "    <tr>\n",
              "      <th>4</th>\n",
              "      <td>122</td>\n",
              "      <td>1</td>\n",
              "      <td>666</td>\n",
              "      <td>1</td>\n",
              "      <td>0</td>\n",
              "      <td>0</td>\n",
              "      <td>2091</td>\n",
              "      <td>31</td>\n",
              "      <td>4</td>\n",
              "    </tr>\n",
              "  </tbody>\n",
              "</table>\n",
              "</div>"
            ],
            "text/plain": [
              "   vidid  adview    views  likes  ...  comment  published  duration  category\n",
              "0   5912      40  1031602   8523  ...     1095       2168       457         6\n",
              "1   2741       2     1707     56  ...        6       2185       570         4\n",
              "2   8138       1     2023     25  ...        2       2094       136         3\n",
              "3   9005       6   620860    777  ...      153       2119       262         8\n",
              "4    122       1      666      1  ...        0       2091        31         4\n",
              "\n",
              "[5 rows x 9 columns]"
            ]
          },
          "metadata": {
            "tags": []
          },
          "execution_count": 91
        }
      ]
    },
    {
      "cell_type": "code",
      "metadata": {
        "id": "8sMQcmFc5E1L",
        "outputId": "2e78c3ef-37f0-499b-91a4-26eb4deddefb",
        "colab": {
          "base_uri": "https://localhost:8080/",
          "height": 524
        }
      },
      "source": [
        "#Visualize\n",
        "plt.hist(df['category'])\n",
        "plt.show()\n",
        "plt.plot(df['adview'])\n",
        "plt.show()"
      ],
      "execution_count": 92,
      "outputs": [
        {
          "output_type": "display_data",
          "data": {
            "image/png": "[encoded data removed]",
            "text/plain": [
              "<Figure size 432x288 with 1 Axes>"
            ]
          },
          "metadata": {
            "tags": [],
            "needs_background": "light"
          }
        },
        {
          "output_type": "display_data",
          "data": {
            "image/png": "[encoded data removed]",
            "text/plain": [
              "<Figure size 432x288 with 1 Axes>"
            ]
          },
          "metadata": {
            "tags": [],
            "needs_background": "light"
          }
        }
      ]
    },
    {
      "cell_type": "code",
      "metadata": {
        "id": "-yi5GhQu5WoG"
      },
      "source": [
        "df=df[df['adview']<2000000]"
      ],
      "execution_count": 93,
      "outputs": []
    },
    {
      "cell_type": "code",
      "metadata": {
        "id": "3ZZS-ihi5Wqw",
        "outputId": "01073eac-7dae-4aad-c9cb-8caa10273fd7",
        "colab": {
          "base_uri": "https://localhost:8080/",
          "height": 487
        }
      },
      "source": [
        "import seaborn as sns\n",
        "f,ax = plt.subplots(figsize=(10, 8))\n",
        "corr = df.corr()\n",
        "sns.heatmap(corr, mask=np.zeros_like(corr, dtype=np.bool), cmap=sns.diverging_palette(230, 10, as_cmap=True),\n",
        "square=True,ax=ax,annot=True)\n",
        "plt.show()"
      ],
      "execution_count": 94,
      "outputs": [
        {
          "output_type": "display_data",
          "data": {
            "image/png": "[encoded data removed]",
            "text/plain": [
              "<Figure size 720x576 with 2 Axes>"
            ]
          },
          "metadata": {
            "tags": [],
            "needs_background": "light"
          }
        }
      ]
    },
    {
      "cell_type": "code",
      "metadata": {
        "id": "W9SyZgmY5Wsw"
      },
      "source": [
        "Y_train=pd.DataFrame(data=df.iloc[:,1].values,columns=['target'])\n",
        "df=df.drop(['adview'],axis=1)\n",
        "df=df.drop(['vidid'],axis=1)"
      ],
      "execution_count": 95,
      "outputs": []
    },
    {
      "cell_type": "code",
      "metadata": {
        "id": "SLmN9a0K5Wvl",
        "outputId": "06429b2b-c816-46e1-eeb4-bda4494ea9cf",
        "colab": {
          "base_uri": "https://localhost:8080/",
          "height": 195
        }
      },
      "source": [
        "df.head()"
      ],
      "execution_count": 96,
      "outputs": [
        {
          "output_type": "execute_result",
          "data": {
            "text/html": [
              "<div>\n",
              "<style scoped>\n",
              "    .dataframe tbody tr th:only-of-type {\n",
              "        vertical-align: middle;\n",
              "    }\n",
              "\n",
              "    .dataframe tbody tr th {\n",
              "        vertical-align: top;\n",
              "    }\n",
              "\n",
              "    .dataframe thead th {\n",
              "        text-align: right;\n",
              "    }\n",
              "</style>\n",
              "<table border=\"1\" class=\"dataframe\">\n",
              "  <thead>\n",
              "    <tr style=\"text-align: right;\">\n",
              "      <th></th>\n",
              "      <th>views</th>\n",
              "      <th>likes</th>\n",
              "      <th>dislikes</th>\n",
              "      <th>comment</th>\n",
              "      <th>published</th>\n",
              "      <th>duration</th>\n",
              "      <th>category</th>\n",
              "    </tr>\n",
              "  </thead>\n",
              "  <tbody>\n",
              "    <tr>\n",
              "      <th>0</th>\n",
              "      <td>1031602</td>\n",
              "      <td>8523</td>\n",
              "      <td>363</td>\n",
              "      <td>1095</td>\n",
              "      <td>2168</td>\n",
              "      <td>457</td>\n",
              "      <td>6</td>\n",
              "    </tr>\n",
              "    <tr>\n",
              "      <th>1</th>\n",
              "      <td>1707</td>\n",
              "      <td>56</td>\n",
              "      <td>2</td>\n",
              "      <td>6</td>\n",
              "      <td>2185</td>\n",
              "      <td>570</td>\n",
              "      <td>4</td>\n",
              "    </tr>\n",
              "    <tr>\n",
              "      <th>2</th>\n",
              "      <td>2023</td>\n",
              "      <td>25</td>\n",
              "      <td>0</td>\n",
              "      <td>2</td>\n",
              "      <td>2094</td>\n",
              "      <td>136</td>\n",
              "      <td>3</td>\n",
              "    </tr>\n",
              "    <tr>\n",
              "      <th>3</th>\n",
              "      <td>620860</td>\n",
              "      <td>777</td>\n",
              "      <td>161</td>\n",
              "      <td>153</td>\n",
              "      <td>2119</td>\n",
              "      <td>262</td>\n",
              "      <td>8</td>\n",
              "    </tr>\n",
              "    <tr>\n",
              "      <th>4</th>\n",
              "      <td>666</td>\n",
              "      <td>1</td>\n",
              "      <td>0</td>\n",
              "      <td>0</td>\n",
              "      <td>2091</td>\n",
              "      <td>31</td>\n",
              "      <td>4</td>\n",
              "    </tr>\n",
              "  </tbody>\n",
              "</table>\n",
              "</div>"
            ],
            "text/plain": [
              "     views  likes  dislikes  comment  published  duration  category\n",
              "0  1031602   8523       363     1095       2168       457         6\n",
              "1     1707     56         2        6       2185       570         4\n",
              "2     2023     25         0        2       2094       136         3\n",
              "3   620860    777       161      153       2119       262         8\n",
              "4      666      1         0        0       2091        31         4"
            ]
          },
          "metadata": {
            "tags": []
          },
          "execution_count": 96
        }
      ]
    },
    {
      "cell_type": "code",
      "metadata": {
        "id": "Mam4vuPm5Wx8",
        "outputId": "16e64630-7b32-40eb-f80d-93753b921119",
        "colab": {
          "base_uri": "https://localhost:8080/",
          "height": 34
        }
      },
      "source": [
        "from sklearn.model_selection import train_test_split\n",
        "X_train,x_test,Y_train,y_test=train_test_split(df,Y_train,test_size=0.3)\n",
        "X_train.shape"
      ],
      "execution_count": 97,
      "outputs": [
        {
          "output_type": "execute_result",
          "data": {
            "text/plain": [
              "(10245, 7)"
            ]
          },
          "metadata": {
            "tags": []
          },
          "execution_count": 97
        }
      ]
    },
    {
      "cell_type": "code",
      "metadata": {
        "id": "rBybNXeC5W01",
        "outputId": "4748f06c-363c-4981-9131-204d8db9975e",
        "colab": {
          "base_uri": "https://localhost:8080/",
          "height": 136
        }
      },
      "source": [
        "X_train[0:3]"
      ],
      "execution_count": 98,
      "outputs": [
        {
          "output_type": "execute_result",
          "data": {
            "text/html": [
              "<div>\n",
              "<style scoped>\n",
              "    .dataframe tbody tr th:only-of-type {\n",
              "        vertical-align: middle;\n",
              "    }\n",
              "\n",
              "    .dataframe tbody tr th {\n",
              "        vertical-align: top;\n",
              "    }\n",
              "\n",
              "    .dataframe thead th {\n",
              "        text-align: right;\n",
              "    }\n",
              "</style>\n",
              "<table border=\"1\" class=\"dataframe\">\n",
              "  <thead>\n",
              "    <tr style=\"text-align: right;\">\n",
              "      <th></th>\n",
              "      <th>views</th>\n",
              "      <th>likes</th>\n",
              "      <th>dislikes</th>\n",
              "      <th>comment</th>\n",
              "      <th>published</th>\n",
              "      <th>duration</th>\n",
              "      <th>category</th>\n",
              "    </tr>\n",
              "  </thead>\n",
              "  <tbody>\n",
              "    <tr>\n",
              "      <th>8932</th>\n",
              "      <td>2873</td>\n",
              "      <td>19</td>\n",
              "      <td>2</td>\n",
              "      <td>0</td>\n",
              "      <td>1126</td>\n",
              "      <td>291</td>\n",
              "      <td>7</td>\n",
              "    </tr>\n",
              "    <tr>\n",
              "      <th>10570</th>\n",
              "      <td>70528</td>\n",
              "      <td>66</td>\n",
              "      <td>9</td>\n",
              "      <td>18</td>\n",
              "      <td>723</td>\n",
              "      <td>46</td>\n",
              "      <td>4</td>\n",
              "    </tr>\n",
              "    <tr>\n",
              "      <th>7847</th>\n",
              "      <td>48564</td>\n",
              "      <td>509</td>\n",
              "      <td>5</td>\n",
              "      <td>39</td>\n",
              "      <td>1896</td>\n",
              "      <td>1154</td>\n",
              "      <td>3</td>\n",
              "    </tr>\n",
              "  </tbody>\n",
              "</table>\n",
              "</div>"
            ],
            "text/plain": [
              "       views  likes  dislikes  comment  published  duration  category\n",
              "8932    2873     19         2        0       1126       291         7\n",
              "10570  70528     66         9       18        723        46         4\n",
              "7847   48564    509         5       39       1896      1154         3"
            ]
          },
          "metadata": {
            "tags": []
          },
          "execution_count": 98
        }
      ]
    },
    {
      "cell_type": "code",
      "metadata": {
        "id": "RbeBKAUI5W3_"
      },
      "source": [
        "#Normalise Data\n",
        "from sklearn.preprocessing import MinMaxScaler\n",
        "scaler=MinMaxScaler()\n",
        "X_train=scaler.fit_transform(X_train)\n",
        "x_test=scaler.fit_transform(x_test)"
      ],
      "execution_count": 99,
      "outputs": []
    },
    {
      "cell_type": "code",
      "metadata": {
        "id": "mtt4wBD35454"
      },
      "source": [
        "# Evaluation Metrics\n",
        "from sklearn import metrics\n",
        "def print_error(x_test, y_test, model_name):\n",
        "    prediction = model_name.predict(x_test)\n",
        "    print('Mean Absolute Error:', metrics.mean_absolute_error(y_test, prediction))\n",
        "    print('Mean Squared Error:', metrics.mean_squared_error(y_test, prediction))\n",
        "    print('Root Mean Squared Error:', np.sqrt(metrics.mean_squared_error(y_test, prediction)))"
      ],
      "execution_count": 100,
      "outputs": []
    },
    {
      "cell_type": "code",
      "metadata": {
        "id": "WtF9ebde548q",
        "outputId": "25edd746-6b0d-433b-ffe4-1c34ea414701",
        "colab": {
          "base_uri": "https://localhost:8080/",
          "height": 67
        }
      },
      "source": [
        "# Linear Regression\n",
        "from sklearn import linear_model\n",
        "linear_regression = linear_model.LinearRegression()\n",
        "linear_regression.fit(X_train, Y_train)\n",
        "print_error(x_test,y_test, linear_regression)"
      ],
      "execution_count": 101,
      "outputs": [
        {
          "output_type": "stream",
          "text": [
            "Mean Absolute Error: 3596.1722951672964\n",
            "Mean Squared Error: 1268670001.8102093\n",
            "Root Mean Squared Error: 35618.39414979582\n"
          ],
          "name": "stdout"
        }
      ]
    },
    {
      "cell_type": "code",
      "metadata": {
        "id": "y9zwwjm354--",
        "outputId": "2c5c4f33-7107-4379-9de4-a090361cf0c5",
        "colab": {
          "base_uri": "https://localhost:8080/",
          "height": 67
        }
      },
      "source": [
        "# Decision Tree Regressor\n",
        "from sklearn.tree import DecisionTreeRegressor\n",
        "decision_tree = DecisionTreeRegressor()\n",
        "decision_tree.fit(X_train, Y_train)\n",
        "print_error(x_test,y_test, decision_tree)"
      ],
      "execution_count": 102,
      "outputs": [
        {
          "output_type": "stream",
          "text": [
            "Mean Absolute Error: 2816.4953313595993\n",
            "Mean Squared Error: 1235276269.190845\n",
            "Root Mean Squared Error: 35146.497253507994\n"
          ],
          "name": "stdout"
        }
      ]
    },
    {
      "cell_type": "code",
      "metadata": {
        "id": "GkEPfBYa55Bk",
        "outputId": "c83ec3c4-a2dd-4a78-fb9c-1874a8388b8a",
        "colab": {
          "base_uri": "https://localhost:8080/",
          "height": 67
        }
      },
      "source": [
        "# Support Vector Regressor\n",
        "from sklearn.svm import SVR\n",
        "supportvector_regressor = SVR(gamma='auto')\n",
        "supportvector_regressor.fit(X_train,Y_train.values.ravel())\n",
        "print_error(x_test,y_test, linear_regression)"
      ],
      "execution_count": 103,
      "outputs": [
        {
          "output_type": "stream",
          "text": [
            "Mean Absolute Error: 3596.1722951672964\n",
            "Mean Squared Error: 1268670001.8102093\n",
            "Root Mean Squared Error: 35618.39414979582\n"
          ],
          "name": "stdout"
        }
      ]
    },
    {
      "cell_type": "code",
      "metadata": {
        "id": "ajwDvS7K55F9",
        "outputId": "b15b9037-7db7-44a9-8d9c-af80ea17cdc2",
        "colab": {
          "base_uri": "https://localhost:8080/",
          "height": 67
        }
      },
      "source": [
        "# Random Forest Regressor\n",
        "from sklearn.ensemble import RandomForestRegressor\n",
        "n_estimators = 200\n",
        "max_depth = 25\n",
        "min_samples_split=15\n",
        "min_samples_leaf=2\n",
        "random_forest = RandomForestRegressor(n_estimators = n_estimators, max_depth = max_depth, min_samples_split=min_samples_split,min_samples_leaf=min_samples_leaf)\n",
        "random_forest.fit(X_train,Y_train.values.ravel())\n",
        "print_error(x_test,y_test, random_forest)"
      ],
      "execution_count": 104,
      "outputs": [
        {
          "output_type": "stream",
          "text": [
            "Mean Absolute Error: 2879.222441856853\n",
            "Mean Squared Error: 1180409997.4687898\n",
            "Root Mean Squared Error: 34357.09530022569\n"
          ],
          "name": "stdout"
        }
      ]
    },
    {
      "cell_type": "code",
      "metadata": {
        "id": "0CFK4ITR55JO",
        "outputId": "4ba3ed48-e1b9-4b30-b645-0ed5d2615e66",
        "colab": {
          "base_uri": "https://localhost:8080/",
          "height": 1000
        }
      },
      "source": [
        "# Artificial Neural Network\n",
        "import keras\n",
        "from keras.layers import Dense\n",
        "ann = keras.models.Sequential([Dense(6, activation=\"relu\",input_shape=X_train.shape[1:]),Dense(6,activation=\"relu\"),Dense(1)])\n",
        "optimizer=keras.optimizers.Adam()\n",
        "loss=keras.losses.mean_squared_error\n",
        "ann.compile(optimizer=optimizer,loss=loss,metrics=[\"mean_squared_error\"])\n",
        "history=ann.fit(X_train,Y_train,epochs=100)\n",
        "ann.summary()\n",
        "print_error(x_test,y_test,ann)"
      ],
      "execution_count": 105,
      "outputs": [
        {
          "output_type": "stream",
          "text": [
            "Epoch 1/100\n",
            "321/321 [==============================] - 0s 1ms/step - loss: 568611072.0000 - mean_squared_error: 568611072.0000\n",
            "Epoch 2/100\n",
            "321/321 [==============================] - 0s 1ms/step - loss: 568605504.0000 - mean_squared_error: 568605504.0000\n",
            "Epoch 3/100\n",
            "321/321 [==============================] - 0s 1ms/step - loss: 568591552.0000 - mean_squared_error: 568591552.0000\n",
            "Epoch 4/100\n",
            "321/321 [==============================] - 0s 1ms/step - loss: 568565504.0000 - mean_squared_error: 568565504.0000\n",
            "Epoch 5/100\n",
            "321/321 [==============================] - 0s 1ms/step - loss: 568528640.0000 - mean_squared_error: 568528640.0000\n",
            "Epoch 6/100\n",
            "321/321 [==============================] - 0s 1ms/step - loss: 568478272.0000 - mean_squared_error: 568478272.0000\n",
            "Epoch 7/100\n",
            "321/321 [==============================] - 0s 1ms/step - loss: 568417152.0000 - mean_squared_error: 568417152.0000\n",
            "Epoch 8/100\n",
            "321/321 [==============================] - 0s 1ms/step - loss: 568345152.0000 - mean_squared_error: 568345152.0000\n",
            "Epoch 9/100\n",
            "321/321 [==============================] - 0s 1ms/step - loss: 568262464.0000 - mean_squared_error: 568262464.0000\n",
            "Epoch 10/100\n",
            "321/321 [==============================] - 0s 1ms/step - loss: 568171008.0000 - mean_squared_error: 568171008.0000\n",
            "Epoch 11/100\n",
            "321/321 [==============================] - 0s 1ms/step - loss: 568070912.0000 - mean_squared_error: 568070912.0000\n",
            "Epoch 12/100\n",
            "321/321 [==============================] - 0s 1ms/step - loss: 567963584.0000 - mean_squared_error: 567963584.0000\n",
            "Epoch 13/100\n",
            "321/321 [==============================] - 0s 1ms/step - loss: 567847424.0000 - mean_squared_error: 567847424.0000\n",
            "Epoch 14/100\n",
            "321/321 [==============================] - 0s 1ms/step - loss: 567731392.0000 - mean_squared_error: 567731392.0000\n",
            "Epoch 15/100\n",
            "321/321 [==============================] - 0s 1ms/step - loss: 567611200.0000 - mean_squared_error: 567611200.0000\n",
            "Epoch 16/100\n",
            "321/321 [==============================] - 0s 1ms/step - loss: 567490496.0000 - mean_squared_error: 567490496.0000\n",
            "Epoch 17/100\n",
            "321/321 [==============================] - 0s 1ms/step - loss: 567365376.0000 - mean_squared_error: 567365376.0000\n",
            "Epoch 18/100\n",
            "321/321 [==============================] - 0s 1ms/step - loss: 567245824.0000 - mean_squared_error: 567245824.0000\n",
            "Epoch 19/100\n",
            "321/321 [==============================] - 0s 1ms/step - loss: 567130944.0000 - mean_squared_error: 567130944.0000\n",
            "Epoch 20/100\n",
            "321/321 [==============================] - 0s 1ms/step - loss: 567020032.0000 - mean_squared_error: 567020032.0000\n",
            "Epoch 21/100\n",
            "321/321 [==============================] - 0s 1ms/step - loss: 566913408.0000 - mean_squared_error: 566913408.0000\n",
            "Epoch 22/100\n",
            "321/321 [==============================] - 0s 1ms/step - loss: 566809856.0000 - mean_squared_error: 566809856.0000\n",
            "Epoch 23/100\n",
            "321/321 [==============================] - 0s 1ms/step - loss: 566712320.0000 - mean_squared_error: 566712320.0000\n",
            "Epoch 24/100\n",
            "321/321 [==============================] - 0s 1ms/step - loss: 566623296.0000 - mean_squared_error: 566623296.0000\n",
            "Epoch 25/100\n",
            "321/321 [==============================] - 0s 1ms/step - loss: 566541952.0000 - mean_squared_error: 566541952.0000\n",
            "Epoch 26/100\n",
            "321/321 [==============================] - 0s 1ms/step - loss: 566461440.0000 - mean_squared_error: 566461440.0000\n",
            "Epoch 27/100\n",
            "321/321 [==============================] - 0s 1ms/step - loss: 566389952.0000 - mean_squared_error: 566389952.0000\n",
            "Epoch 28/100\n",
            "321/321 [==============================] - 0s 1ms/step - loss: 566324800.0000 - mean_squared_error: 566324800.0000\n",
            "Epoch 29/100\n",
            "321/321 [==============================] - 0s 1ms/step - loss: 566265152.0000 - mean_squared_error: 566265152.0000\n",
            "Epoch 30/100\n",
            "321/321 [==============================] - 0s 997us/step - loss: 566213120.0000 - mean_squared_error: 566213120.0000\n",
            "Epoch 31/100\n",
            "321/321 [==============================] - 0s 1ms/step - loss: 566164992.0000 - mean_squared_error: 566164992.0000\n",
            "Epoch 32/100\n",
            "321/321 [==============================] - 0s 1ms/step - loss: 566116160.0000 - mean_squared_error: 566116160.0000\n",
            "Epoch 33/100\n",
            "321/321 [==============================] - 0s 1ms/step - loss: 566076416.0000 - mean_squared_error: 566076416.0000\n",
            "Epoch 34/100\n",
            "321/321 [==============================] - 0s 1ms/step - loss: 566040192.0000 - mean_squared_error: 566040192.0000\n",
            "Epoch 35/100\n",
            "321/321 [==============================] - 0s 1ms/step - loss: 566004992.0000 - mean_squared_error: 566004992.0000\n",
            "Epoch 36/100\n",
            "321/321 [==============================] - 0s 1ms/step - loss: 565973888.0000 - mean_squared_error: 565973888.0000\n",
            "Epoch 37/100\n",
            "321/321 [==============================] - 0s 1ms/step - loss: 565945600.0000 - mean_squared_error: 565945600.0000\n",
            "Epoch 38/100\n",
            "321/321 [==============================] - 0s 1ms/step - loss: 565919616.0000 - mean_squared_error: 565919616.0000\n",
            "Epoch 39/100\n",
            "321/321 [==============================] - 0s 1ms/step - loss: 565895552.0000 - mean_squared_error: 565895552.0000\n",
            "Epoch 40/100\n",
            "321/321 [==============================] - 0s 1ms/step - loss: 565876032.0000 - mean_squared_error: 565876032.0000\n",
            "Epoch 41/100\n",
            "321/321 [==============================] - 0s 1ms/step - loss: 565857216.0000 - mean_squared_error: 565857216.0000\n",
            "Epoch 42/100\n",
            "321/321 [==============================] - 0s 1ms/step - loss: 565840384.0000 - mean_squared_error: 565840384.0000\n",
            "Epoch 43/100\n",
            "321/321 [==============================] - 0s 1ms/step - loss: 565821824.0000 - mean_squared_error: 565821824.0000\n",
            "Epoch 44/100\n",
            "321/321 [==============================] - 0s 1ms/step - loss: 565806848.0000 - mean_squared_error: 565806848.0000\n",
            "Epoch 45/100\n",
            "321/321 [==============================] - 0s 998us/step - loss: 565791744.0000 - mean_squared_error: 565791744.0000\n",
            "Epoch 46/100\n",
            "321/321 [==============================] - 0s 1ms/step - loss: 565779520.0000 - mean_squared_error: 565779520.0000\n",
            "Epoch 47/100\n",
            "321/321 [==============================] - 0s 1ms/step - loss: 565771520.0000 - mean_squared_error: 565771520.0000\n",
            "Epoch 48/100\n",
            "321/321 [==============================] - 0s 1ms/step - loss: 565760000.0000 - mean_squared_error: 565760000.0000\n",
            "Epoch 49/100\n",
            "321/321 [==============================] - 0s 1ms/step - loss: 565747136.0000 - mean_squared_error: 565747136.0000\n",
            "Epoch 50/100\n",
            "321/321 [==============================] - 0s 1ms/step - loss: 565737792.0000 - mean_squared_error: 565737792.0000\n",
            "Epoch 51/100\n",
            "321/321 [==============================] - 0s 1ms/step - loss: 565727872.0000 - mean_squared_error: 565727872.0000\n",
            "Epoch 52/100\n",
            "321/321 [==============================] - 0s 1ms/step - loss: 565720320.0000 - mean_squared_error: 565720320.0000\n",
            "Epoch 53/100\n",
            "321/321 [==============================] - 0s 1ms/step - loss: 565710464.0000 - mean_squared_error: 565710464.0000\n",
            "Epoch 54/100\n",
            "321/321 [==============================] - 0s 1ms/step - loss: 565701952.0000 - mean_squared_error: 565701952.0000\n",
            "Epoch 55/100\n",
            "321/321 [==============================] - 0s 1ms/step - loss: 565695872.0000 - mean_squared_error: 565695872.0000\n",
            "Epoch 56/100\n",
            "321/321 [==============================] - 0s 1ms/step - loss: 565689920.0000 - mean_squared_error: 565689920.0000\n",
            "Epoch 57/100\n",
            "321/321 [==============================] - 0s 1ms/step - loss: 565682304.0000 - mean_squared_error: 565682304.0000\n",
            "Epoch 58/100\n",
            "321/321 [==============================] - 0s 1ms/step - loss: 565673664.0000 - mean_squared_error: 565673664.0000\n",
            "Epoch 59/100\n",
            "321/321 [==============================] - 0s 1ms/step - loss: 565666112.0000 - mean_squared_error: 565666112.0000\n",
            "Epoch 60/100\n",
            "321/321 [==============================] - 0s 1ms/step - loss: 565660800.0000 - mean_squared_error: 565660800.0000\n",
            "Epoch 61/100\n",
            "321/321 [==============================] - 0s 1ms/step - loss: 565654080.0000 - mean_squared_error: 565654080.0000\n",
            "Epoch 62/100\n",
            "321/321 [==============================] - 0s 1ms/step - loss: 565647552.0000 - mean_squared_error: 565647552.0000\n",
            "Epoch 63/100\n",
            "321/321 [==============================] - 0s 1ms/step - loss: 565641344.0000 - mean_squared_error: 565641344.0000\n",
            "Epoch 64/100\n",
            "321/321 [==============================] - 0s 1ms/step - loss: 565635072.0000 - mean_squared_error: 565635072.0000\n",
            "Epoch 65/100\n",
            "321/321 [==============================] - 0s 1ms/step - loss: 565628992.0000 - mean_squared_error: 565628992.0000\n",
            "Epoch 66/100\n",
            "321/321 [==============================] - 0s 1ms/step - loss: 565623360.0000 - mean_squared_error: 565623360.0000\n",
            "Epoch 67/100\n",
            "321/321 [==============================] - 0s 1ms/step - loss: 565619648.0000 - mean_squared_error: 565619648.0000\n",
            "Epoch 68/100\n",
            "321/321 [==============================] - 0s 1ms/step - loss: 565610880.0000 - mean_squared_error: 565610880.0000\n",
            "Epoch 69/100\n",
            "321/321 [==============================] - 0s 1ms/step - loss: 565605248.0000 - mean_squared_error: 565605248.0000\n",
            "Epoch 70/100\n",
            "321/321 [==============================] - 0s 1ms/step - loss: 565598592.0000 - mean_squared_error: 565598592.0000\n",
            "Epoch 71/100\n",
            "321/321 [==============================] - 0s 1ms/step - loss: 565595392.0000 - mean_squared_error: 565595392.0000\n",
            "Epoch 72/100\n",
            "321/321 [==============================] - 0s 1ms/step - loss: 565588288.0000 - mean_squared_error: 565588288.0000\n",
            "Epoch 73/100\n",
            "321/321 [==============================] - 0s 1ms/step - loss: 565582784.0000 - mean_squared_error: 565582784.0000\n",
            "Epoch 74/100\n",
            "321/321 [==============================] - 0s 1ms/step - loss: 565575616.0000 - mean_squared_error: 565575616.0000\n",
            "Epoch 75/100\n",
            "321/321 [==============================] - 0s 1ms/step - loss: 565572288.0000 - mean_squared_error: 565572288.0000\n",
            "Epoch 76/100\n",
            "321/321 [==============================] - 0s 1ms/step - loss: 565565760.0000 - mean_squared_error: 565565760.0000\n",
            "Epoch 77/100\n",
            "321/321 [==============================] - 0s 1ms/step - loss: 565558976.0000 - mean_squared_error: 565558976.0000\n",
            "Epoch 78/100\n",
            "321/321 [==============================] - 0s 1ms/step - loss: 565553600.0000 - mean_squared_error: 565553600.0000\n",
            "Epoch 79/100\n",
            "321/321 [==============================] - 0s 1ms/step - loss: 565548032.0000 - mean_squared_error: 565548032.0000\n",
            "Epoch 80/100\n",
            "321/321 [==============================] - 0s 1ms/step - loss: 565544256.0000 - mean_squared_error: 565544256.0000\n",
            "Epoch 81/100\n",
            "321/321 [==============================] - 0s 1ms/step - loss: 565535936.0000 - mean_squared_error: 565535936.0000\n",
            "Epoch 82/100\n",
            "321/321 [==============================] - 0s 1ms/step - loss: 565529856.0000 - mean_squared_error: 565529856.0000\n",
            "Epoch 83/100\n",
            "321/321 [==============================] - 0s 1ms/step - loss: 565524800.0000 - mean_squared_error: 565524800.0000\n",
            "Epoch 84/100\n",
            "321/321 [==============================] - 0s 1ms/step - loss: 565519552.0000 - mean_squared_error: 565519552.0000\n",
            "Epoch 85/100\n",
            "321/321 [==============================] - 0s 1ms/step - loss: 565513792.0000 - mean_squared_error: 565513792.0000\n",
            "Epoch 86/100\n",
            "321/321 [==============================] - 0s 1ms/step - loss: 565507904.0000 - mean_squared_error: 565507904.0000\n",
            "Epoch 87/100\n",
            "321/321 [==============================] - 0s 1ms/step - loss: 565502848.0000 - mean_squared_error: 565502848.0000\n",
            "Epoch 88/100\n",
            "321/321 [==============================] - 0s 1ms/step - loss: 565495936.0000 - mean_squared_error: 565495936.0000\n",
            "Epoch 89/100\n",
            "321/321 [==============================] - 0s 1ms/step - loss: 565493888.0000 - mean_squared_error: 565493888.0000\n",
            "Epoch 90/100\n",
            "321/321 [==============================] - 0s 1ms/step - loss: 565485056.0000 - mean_squared_error: 565485056.0000\n",
            "Epoch 91/100\n",
            "321/321 [==============================] - 0s 1ms/step - loss: 565481344.0000 - mean_squared_error: 565481344.0000\n",
            "Epoch 92/100\n",
            "321/321 [==============================] - 0s 1ms/step - loss: 565473344.0000 - mean_squared_error: 565473344.0000\n",
            "Epoch 93/100\n",
            "321/321 [==============================] - 0s 1ms/step - loss: 565467264.0000 - mean_squared_error: 565467264.0000\n",
            "Epoch 94/100\n",
            "321/321 [==============================] - 0s 1ms/step - loss: 565464064.0000 - mean_squared_error: 565464064.0000\n",
            "Epoch 95/100\n",
            "321/321 [==============================] - 0s 1ms/step - loss: 565458496.0000 - mean_squared_error: 565458496.0000\n",
            "Epoch 96/100\n",
            "321/321 [==============================] - 0s 1ms/step - loss: 565452032.0000 - mean_squared_error: 565452032.0000\n",
            "Epoch 97/100\n",
            "321/321 [==============================] - 0s 1ms/step - loss: 565448896.0000 - mean_squared_error: 565448896.0000\n",
            "Epoch 98/100\n",
            "321/321 [==============================] - 0s 1ms/step - loss: 565440384.0000 - mean_squared_error: 565440384.0000\n",
            "Epoch 99/100\n",
            "321/321 [==============================] - 0s 1ms/step - loss: 565435392.0000 - mean_squared_error: 565435392.0000\n",
            "Epoch 100/100\n",
            "321/321 [==============================] - 0s 1ms/step - loss: 565429888.0000 - mean_squared_error: 565429888.0000\n",
            "Model: \"sequential_4\"\n",
            "_________________________________________________________________\n",
            "Layer (type)                 Output Shape              Param #   \n",
            "=================================================================\n",
            "dense_12 (Dense)             (None, 6)                 48        \n",
            "_________________________________________________________________\n",
            "dense_13 (Dense)             (None, 6)                 42        \n",
            "_________________________________________________________________\n",
            "dense_14 (Dense)             (None, 1)                 7         \n",
            "=================================================================\n",
            "Total params: 97\n",
            "Trainable params: 97\n",
            "Non-trainable params: 0\n",
            "_________________________________________________________________\n",
            "Mean Absolute Error: 3459.280918513146\n",
            "Mean Squared Error: 1270299972.7662313\n",
            "Root Mean Squared Error: 35641.26783331692\n"
          ],
          "name": "stdout"
        }
      ]
    },
    {
      "cell_type": "code",
      "metadata": {
        "id": "BIii3fB955Ez"
      },
      "source": [
        "#Saving Scikitlearn models\n",
        "import joblib\n",
        "joblib.dump(decision_tree, \"decisiontree_youtubeadpicker.pkl\")\n",
        "# Saving Keras Artificial Neural Network model\n",
        "ann.save(\"ann_youtubeadpicker.h5\")"
      ],
      "execution_count": 107,
      "outputs": []
    }
  ]
}