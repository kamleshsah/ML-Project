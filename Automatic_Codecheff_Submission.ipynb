{
  "nbformat": 4,
  "nbformat_minor": 0,
  "metadata": {
    "colab": {
      "name": "Automatic Codecheff Submission.ipynb",
      "provenance": [],
      "mount_file_id": "18zkdkUnF4534ocKaHtCD15rZzULtCHB0",
      "authorship_tag": "ABX9TyOlOfax7IwSMA9NYCzHXXAB",
      "include_colab_link": true
    },
    "kernelspec": {
      "name": "python3",
      "display_name": "Python 3"
    }
  },
  "cells": [
    {
      "cell_type": "markdown",
      "metadata": {
        "id": "view-in-github",
        "colab_type": "text"
      },
      "source": [
        "<a href=\"https://colab.research.google.com/github/kamleshsah/ML-Project/blob/main/Automatic_Codecheff_Submission.ipynb\" target=\"_parent\"><img src=\"https://colab.research.google.com/assets/colab-badge.svg\" alt=\"Open In Colab\"/></a>"
      ]
    },
    {
      "cell_type": "code",
      "metadata": {
        "id": "ImMRxunJdted"
      },
      "source": [
        "from selenium import webdriver"
      ],
      "execution_count": null,
      "outputs": []
    },
    {
      "cell_type": "code",
      "metadata": {
        "id": "JrHOZzNHd00m"
      },
      "source": [
        "browser=webdriver.Chrome('C:\\\\Users\\\\Kamlesh\\\\Desktop\\\\Machine Learning\\\\Chrome Driver 86\\\\chromedriver.exe')"
      ],
      "execution_count": null,
      "outputs": []
    },
    {
      "cell_type": "code",
      "metadata": {
        "id": "kan7riARd03P"
      },
      "source": [
        "browser.get('https://codechef.com')"
      ],
      "execution_count": null,
      "outputs": []
    },
    {
      "cell_type": "code",
      "metadata": {
        "id": "SoO9dxyUd05i"
      },
      "source": [
        "import time\n",
        "time.sleep(5)"
      ],
      "execution_count": null,
      "outputs": []
    },
    {
      "cell_type": "code",
      "metadata": {
        "id": "R1GENNBFd08A"
      },
      "source": [
        "usernamr=browser.find_element_by_id('edit-name')\n",
        "usernamr.send_keys('kamleshsah123')"
      ],
      "execution_count": null,
      "outputs": []
    },
    {
      "cell_type": "code",
      "metadata": {
        "id": "5ANsi3Dgd0-e"
      },
      "source": [
        "from getpass import getpass"
      ],
      "execution_count": null,
      "outputs": []
    },
    {
      "cell_type": "code",
      "metadata": {
        "id": "GVNSF7xId1A5"
      },
      "source": [
        "password=browser.find_element_by_id('edit-pass')\n",
        "password.send_keys(getpass(''))"
      ],
      "execution_count": null,
      "outputs": []
    },
    {
      "cell_type": "code",
      "metadata": {
        "id": "b5D7SJTfd1DV"
      },
      "source": [
        "login=browser.find_element_by_id('edit-submit')\n",
        "login.click()"
      ],
      "execution_count": null,
      "outputs": []
    },
    {
      "cell_type": "code",
      "metadata": {
        "id": "xKaK_amRd1Fi"
      },
      "source": [
        "browser.get('https://www.codechef.com/submit/EOOPR')"
      ],
      "execution_count": null,
      "outputs": []
    },
    {
      "cell_type": "code",
      "metadata": {
        "id": "H3DV-ynKd1H1"
      },
      "source": [
        "with open('C:\\\\Users\\\\Kamlesh\\\\Desktop\\\\New Text Document.txt','r') as code:\n",
        "    code=code.read()"
      ],
      "execution_count": null,
      "outputs": []
    },
    {
      "cell_type": "code",
      "metadata": {
        "id": "1xe3EnQud1KB"
      },
      "source": [
        "browser.find_element_by_id('edit-submit').click()"
      ],
      "execution_count": null,
      "outputs": []
    },
    {
      "cell_type": "code",
      "metadata": {
        "id": "616tUxNqd1M4"
      },
      "source": [
        "browser.find_element_by_id('edit_area_toggle_checkbox_edit-program').click()"
      ],
      "execution_count": null,
      "outputs": []
    },
    {
      "cell_type": "code",
      "metadata": {
        "id": "_MGkb04MeR5f"
      },
      "source": [
        "code_area=browser.find_element_by_id('edit-program')\n",
        "code_area.send_keys(code)"
      ],
      "execution_count": null,
      "outputs": []
    },
    {
      "cell_type": "code",
      "metadata": {
        "id": "Ic9jgHpTeR8G"
      },
      "source": [
        "browser.find_element_by_xpath('//*[@id=\"edit-language\"]/option[4]').click()"
      ],
      "execution_count": null,
      "outputs": []
    },
    {
      "cell_type": "code",
      "metadata": {
        "id": "-4GUCQJHeT3O"
      },
      "source": [
        "browser.find_element_by_id('edit-submit-1').click()"
      ],
      "execution_count": null,
      "outputs": []
    },
    {
      "cell_type": "code",
      "metadata": {
        "id": "jZvuoToGeaAB"
      },
      "source": [
        ""
      ],
      "execution_count": null,
      "outputs": []
    }
  ]
}